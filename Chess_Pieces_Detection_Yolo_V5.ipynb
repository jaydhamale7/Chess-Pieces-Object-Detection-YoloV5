{
 "cells": [
  {
   "cell_type": "markdown",
   "metadata": {
    "id": "FtW5fT9suFBS"
   },
   "source": [
    "Download Dataset"
   ]
  },
  {
   "cell_type": "code",
   "execution_count": 1,
   "metadata": {
    "id": "ZTrKPOBkGV1E"
   },
   "outputs": [],
   "source": [
    "from IPython.display import clear_output"
   ]
  },
  {
   "cell_type": "code",
   "execution_count": 2,
   "metadata": {
    "id": "RNjmr0YYlaYJ"
   },
   "outputs": [],
   "source": [
    "!kaggle datasets download -d josephnelson/chess-piece-images-and-bounding-boxes\r\n",
    "!unzip chess-piece-images-and-bounding-boxes.zip\r\n",
    "clear_output()"
   ]
  },
  {
   "cell_type": "markdown",
   "metadata": {
    "id": "zmCqcdHrvU7b"
   },
   "source": [
    "Covert Annotations xml to txt"
   ]
  },
  {
   "cell_type": "code",
   "execution_count": 3,
   "metadata": {
    "id": "9yM14MsdvUeC"
   },
   "outputs": [],
   "source": [
    "from xml.dom import minidom\r\n",
    "import os\r\n",
    "import glob"
   ]
  },
  {
   "cell_type": "code",
   "execution_count": 4,
   "metadata": {
    "colab": {
     "base_uri": "https://localhost:8080/"
    },
    "id": "Q4mP-5W6vsyM",
    "outputId": "d438bd56-d7ed-4eea-ca65-381026a023c6"
   },
   "outputs": [
    {
     "name": "stdout",
     "output_type": "stream",
     "text": [
      "{'white-rook': 0, 'white-knight': 1, 'white-bishop': 2, 'white-king': 3, 'white-queen': 4, 'white-pawn': 5, 'black-rook': 6, 'black-knight': 7, 'black-bishop': 8, 'black-king': 9, 'black-queen': 10, 'black-pawn': 11}\n"
     ]
    }
   ],
   "source": [
    "classes = ['white-rook', 'white-knight', 'white-bishop', 'white-king', 'white-queen', \r\n",
    "           'white-pawn', 'black-rook', 'black-knight', 'black-bishop', 'black-king', \r\n",
    "           'black-queen', 'black-pawn']\r\n",
    "dictionary = {j:i for i,j in enumerate(classes)} \r\n",
    "print(dictionary)"
   ]
  },
  {
   "cell_type": "code",
   "execution_count": 5,
   "metadata": {
    "id": "-V4tUHK_wGLc"
   },
   "outputs": [],
   "source": [
    "def convert_coordinates(size, box):\r\n",
    "    dw = 1.0/size[0]\r\n",
    "    dh = 1.0/size[1]\r\n",
    "    x = (box[0]+box[1])/2.0\r\n",
    "    y = (box[2]+box[3])/2.0\r\n",
    "    w = box[1]-box[0]\r\n",
    "    h = box[3]-box[2]\r\n",
    "    x = x*dw    \r\n",
    "    w = w*dw\r\n",
    "    y = y*dh\r\n",
    "    h = h*dh\r\n",
    "    return (x,y,w,h)"
   ]
  },
  {
   "cell_type": "code",
   "execution_count": 6,
   "metadata": {
    "id": "kkwu7hk_wVRE"
   },
   "outputs": [],
   "source": [
    "def convert_xml2yolo(dictionary,path):\r\n",
    "    for fname in glob.glob(f\"{path}/*.xml\"):\r\n",
    "        print(fname)\r\n",
    "        xmldoc = minidom.parse(fname)\r\n",
    "        fname_out = (fname[:-4]+'.txt')\r\n",
    "        with open(fname_out, \"w\") as f:\r\n",
    "            itemlist = xmldoc.getElementsByTagName('object')\r\n",
    "            size = xmldoc.getElementsByTagName('size')[0]\r\n",
    "            width = int((size.getElementsByTagName('width')[0]).firstChild.data)\r\n",
    "            height = int((size.getElementsByTagName('height')[0]).firstChild.data)\r\n",
    "            for item in itemlist:\r\n",
    "                classid =  (item.getElementsByTagName('name')[0]).firstChild.data\r\n",
    "                if classid in dictionary:\r\n",
    "                    label_str = str(dictionary[classid])\r\n",
    "                else:\r\n",
    "                    label_str = \"-1\"\r\n",
    "                    print (\"warning: label '%s' not in look-up table\" % classid)\r\n",
    "\r\n",
    "                # get bbox coordinates\r\n",
    "                xmin = ((item.getElementsByTagName('bndbox')[0]).getElementsByTagName('xmin')[0]).firstChild.data\r\n",
    "                ymin = ((item.getElementsByTagName('bndbox')[0]).getElementsByTagName('ymin')[0]).firstChild.data\r\n",
    "                xmax = ((item.getElementsByTagName('bndbox')[0]).getElementsByTagName('xmax')[0]).firstChild.data\r\n",
    "                ymax = ((item.getElementsByTagName('bndbox')[0]).getElementsByTagName('ymax')[0]).firstChild.data\r\n",
    "                b = (float(xmin), float(xmax), float(ymin), float(ymax))\r\n",
    "                bb = convert_coordinates((width,height), b)\r\n",
    "\r\n",
    "                f.write(label_str + \" \" + \" \".join([(\"%.6f\" % a) for a in bb]) + '\\n')\r\n",
    "\r\n",
    "        print (\"wrote %s\" % fname_out)"
   ]
  },
  {
   "cell_type": "code",
   "execution_count": 7,
   "metadata": {
    "id": "qylJUP9Xw_96"
   },
   "outputs": [],
   "source": [
    "path = \"/content/export\"\r\n",
    "convert_xml2yolo(dictionary,path)\r\n",
    "clear_output()"
   ]
  },
  {
   "cell_type": "code",
   "execution_count": 8,
   "metadata": {
    "id": "qYUa7-b3CmII"
   },
   "outputs": [],
   "source": [
    "!mkdir images\r\n",
    "!mkdir yolo_annotations"
   ]
  },
  {
   "cell_type": "code",
   "execution_count": 9,
   "metadata": {
    "id": "CwYQPNJoxPv8"
   },
   "outputs": [],
   "source": [
    "!cp /content/export/*.txt yolo_annotations/\r\n",
    "!cp /content/export/*.jpg images/"
   ]
  },
  {
   "cell_type": "code",
   "execution_count": 10,
   "metadata": {
    "colab": {
     "base_uri": "https://localhost:8080/"
    },
    "id": "_vwhkByCyUAE",
    "outputId": "5800a601-592a-4454-9250-73d92e1bdfcd"
   },
   "outputs": [
    {
     "name": "stdout",
     "output_type": "stream",
     "text": [
      "289\n"
     ]
    }
   ],
   "source": [
    "print(len(os.listdir(\"yolo_annotations/\")))"
   ]
  },
  {
   "cell_type": "code",
   "execution_count": 11,
   "metadata": {
    "colab": {
     "base_uri": "https://localhost:8080/"
    },
    "id": "JSZccWBhyeUr",
    "outputId": "706e3918-1ac8-4060-e40f-77a063bbdb3e"
   },
   "outputs": [
    {
     "name": "stdout",
     "output_type": "stream",
     "text": [
      "289\n"
     ]
    }
   ],
   "source": [
    "print(len(os.listdir(\"/content/images\")))"
   ]
  },
  {
   "cell_type": "markdown",
   "metadata": {
    "id": "gsbzTTbmyv81"
   },
   "source": [
    "Structure into yolo format"
   ]
  },
  {
   "cell_type": "code",
   "execution_count": 12,
   "metadata": {
    "id": "tJZRT3jtythe"
   },
   "outputs": [],
   "source": [
    "!mkdir data\r\n",
    "!mkdir data/images data/labels\r\n",
    "!mkdir data/images/train data/images/val\r\n",
    "!mkdir data/labels/train data/labels/val"
   ]
  },
  {
   "cell_type": "code",
   "execution_count": 13,
   "metadata": {
    "colab": {
     "base_uri": "https://localhost:8080/"
    },
    "id": "6VflYa6PAAG5",
    "outputId": "ec516180-b310-4e04-f25d-8aee33db7969"
   },
   "outputs": [
    {
     "data": {
      "text/plain": [
       "(289, 250, 39)"
      ]
     },
     "execution_count": 13,
     "metadata": {
      "tags": []
     },
     "output_type": "execute_result"
    }
   ],
   "source": [
    "import os\r\n",
    "all_ = [i for i in os.listdir('/content/images/')]\r\n",
    "train = all_[:250]\r\n",
    "test = all_[250:]\r\n",
    "len(all_),len(train),len(test)"
   ]
  },
  {
   "cell_type": "code",
   "execution_count": 14,
   "metadata": {
    "id": "HQRax85gMhAk"
   },
   "outputs": [],
   "source": [
    "!cp /content/images/*jpg data/images/train/\r\n",
    "!cp /content/images/*jpg data/images/val/"
   ]
  },
  {
   "cell_type": "code",
   "execution_count": 15,
   "metadata": {
    "id": "9MT9CMvZz7Ul"
   },
   "outputs": [],
   "source": [
    "!cp yolo_annotations/* data/labels/train/\r\n",
    "!cp yolo_annotations/* data/labels/val/"
   ]
  },
  {
   "cell_type": "code",
   "execution_count": 16,
   "metadata": {
    "id": "8YuasQ4SNJQ9"
   },
   "outputs": [],
   "source": [
    "for i in os.listdir(\"/content/data/images/train\"):\r\n",
    "  if i not in train:\r\n",
    "    os.remove(f\"/content/data/images/train/{i}\")\r\n",
    "for i in os.listdir(\"/content/data/images/val\"):\r\n",
    "  if i not in test:\r\n",
    "    os.remove(f\"/content/data/images/val/{i}\")"
   ]
  },
  {
   "cell_type": "code",
   "execution_count": null,
   "metadata": {
    "id": "S0W6N6k2NsOs"
   },
   "outputs": [],
   "source": [
    "len(os.listdir(\"/content/data/images/train\")),len(os.listdir(\"/content/data/images/val\"))"
   ]
  },
  {
   "cell_type": "code",
   "execution_count": 17,
   "metadata": {
    "id": "kejaFi7sOMkK"
   },
   "outputs": [],
   "source": [
    "for i in os.listdir(\"/content/images\"):\r\n",
    "  if i not in train:\r\n",
    "    os.remove(f\"/content/data/labels/train/{i.split('.')[0]}.txt\")\r\n",
    "for i in os.listdir(\"/content/images\"):\r\n",
    "  if i not in test:\r\n",
    "    os.remove(f\"/content/data/labels/val/{i.split('.')[0]}.txt\")"
   ]
  },
  {
   "cell_type": "code",
   "execution_count": 18,
   "metadata": {
    "colab": {
     "base_uri": "https://localhost:8080/"
    },
    "id": "OL1WUcErOqbr",
    "outputId": "691bb90a-5486-499c-ef56-d7c42ecaf7c5"
   },
   "outputs": [
    {
     "data": {
      "text/plain": [
       "(250, 39)"
      ]
     },
     "execution_count": 18,
     "metadata": {
      "tags": []
     },
     "output_type": "execute_result"
    }
   ],
   "source": [
    "len(os.listdir(\"/content/data/labels/train\")),len(os.listdir(\"/content/data/labels/val\"))"
   ]
  },
  {
   "cell_type": "markdown",
   "metadata": {
    "id": "M_kXWTI3QTBE"
   },
   "source": [
    "Yolo V5"
   ]
  },
  {
   "cell_type": "code",
   "execution_count": 19,
   "metadata": {
    "id": "Vpgul8gGFOj9"
   },
   "outputs": [],
   "source": [
    "!git clone https://github.com/ultralytics/yolov5  # clone repo\r\n",
    "%cd yolov5\r\n",
    "!pip install -r requirements.txt\r\n",
    "clear_output()"
   ]
  },
  {
   "cell_type": "code",
   "execution_count": 20,
   "metadata": {
    "colab": {
     "base_uri": "https://localhost:8080/"
    },
    "id": "-hyZqWeOQUf7",
    "outputId": "93f03a7e-a787-4151-d140-ebf1294cce38"
   },
   "outputs": [
    {
     "name": "stdout",
     "output_type": "stream",
     "text": [
      "Setup complete. Using torch 1.7.0+cu101 _CudaDeviceProperties(name='Tesla T4', major=7, minor=5, total_memory=15079MB, multi_processor_count=40)\n"
     ]
    }
   ],
   "source": [
    "import torch\r\n",
    "from IPython.display import Image, clear_output  # to display images\r\n",
    "print('Setup complete. Using torch %s %s' % (torch.__version__, torch.cuda.get_device_properties(0) if torch.cuda.is_available() else 'CPU'))"
   ]
  },
  {
   "cell_type": "markdown",
   "metadata": {
    "id": "9LXpi-3zixBJ"
   },
   "source": [
    "Create a data.yaml"
   ]
  },
  {
   "cell_type": "markdown",
   "metadata": {
    "id": "FFEXLENejETQ"
   },
   "source": [
    "train: ../data/images/train\r\n",
    "\r\n",
    "val: ../data/images/val\r\n",
    "\r\n",
    "nc: 12\r\n",
    "\r\n",
    "names: ['white-rook', 'white-knight', 'white-bishop', 'white-king', 'white-queen', \r\n",
    "           'white-pawn', 'black-rook', 'black-knight', 'black-bishop', 'black-king', \r\n",
    "           'black-queen', 'black-pawn']"
   ]
  },
  {
   "cell_type": "code",
   "execution_count": 21,
   "metadata": {
    "colab": {
     "base_uri": "https://localhost:8080/"
    },
    "id": "EZEIU4vhVph1",
    "outputId": "2670a31c-0764-4048-82ae-4d1e1131d4e0"
   },
   "outputs": [
    {
     "name": "stdout",
     "output_type": "stream",
     "text": [
      "YOLOv5 v4.0-10-g1d1c056 torch 1.7.0+cu101 CUDA:0 (Tesla T4, 15079.75MB)\n",
      "\n",
      "Namespace(adam=False, batch_size=4, bucket='', cache_images=True, cfg='', data='/content/data.yaml', device='', epochs=30, evolve=False, exist_ok=False, global_rank=-1, hyp='data/hyp.scratch.yaml', image_weights=False, img_size=[640, 640], local_rank=-1, log_artifacts=False, log_imgs=16, multi_scale=False, name='exp', noautoanchor=False, nosave=True, notest=False, project='runs/train', quad=False, rect=False, resume=False, save_dir='runs/train/exp', single_cls=False, sync_bn=False, total_batch_size=4, weights='yolov5s.pt', workers=8, world_size=1)\n",
      "Start Tensorboard with \"tensorboard --logdir runs/train\", view at http://localhost:6006/\n",
      "2021-01-12 11:52:48.820811: I tensorflow/stream_executor/platform/default/dso_loader.cc:49] Successfully opened dynamic library libcudart.so.10.1\n",
      "\u001b[34m\u001b[1mHyperparameters: \u001b[0mlr0=0.01, lrf=0.2, momentum=0.937, weight_decay=0.0005, warmup_epochs=3.0, warmup_momentum=0.8, warmup_bias_lr=0.1, box=0.05, cls=0.5, cls_pw=1.0, obj=1.0, obj_pw=1.0, iou_t=0.2, anchor_t=4.0, fl_gamma=0.0, hsv_h=0.015, hsv_s=0.7, hsv_v=0.4, degrees=0.0, translate=0.1, scale=0.5, shear=0.0, perspective=0.0, flipud=0.0, fliplr=0.5, mosaic=1.0, mixup=0.0\n",
      "Downloading https://github.com/ultralytics/yolov5/releases/download/v4.0/yolov5s.pt to yolov5s.pt...\n",
      "100% 14.1M/14.1M [00:00<00:00, 19.1MB/s]\n",
      "\n",
      "Overriding model.yaml nc=80 with nc=12\n",
      "\n",
      "                 from  n    params  module                                  arguments                     \n",
      "  0                -1  1      3520  models.common.Focus                     [3, 32, 3]                    \n",
      "  1                -1  1     18560  models.common.Conv                      [32, 64, 3, 2]                \n",
      "  2                -1  1     18816  models.common.C3                        [64, 64, 1]                   \n",
      "  3                -1  1     73984  models.common.Conv                      [64, 128, 3, 2]               \n",
      "  4                -1  1    156928  models.common.C3                        [128, 128, 3]                 \n",
      "  5                -1  1    295424  models.common.Conv                      [128, 256, 3, 2]              \n",
      "  6                -1  1    625152  models.common.C3                        [256, 256, 3]                 \n",
      "  7                -1  1   1180672  models.common.Conv                      [256, 512, 3, 2]              \n",
      "  8                -1  1    656896  models.common.SPP                       [512, 512, [5, 9, 13]]        \n",
      "  9                -1  1   1182720  models.common.C3                        [512, 512, 1, False]          \n",
      " 10                -1  1    131584  models.common.Conv                      [512, 256, 1, 1]              \n",
      " 11                -1  1         0  torch.nn.modules.upsampling.Upsample    [None, 2, 'nearest']          \n",
      " 12           [-1, 6]  1         0  models.common.Concat                    [1]                           \n",
      " 13                -1  1    361984  models.common.C3                        [512, 256, 1, False]          \n",
      " 14                -1  1     33024  models.common.Conv                      [256, 128, 1, 1]              \n",
      " 15                -1  1         0  torch.nn.modules.upsampling.Upsample    [None, 2, 'nearest']          \n",
      " 16           [-1, 4]  1         0  models.common.Concat                    [1]                           \n",
      " 17                -1  1     90880  models.common.C3                        [256, 128, 1, False]          \n",
      " 18                -1  1    147712  models.common.Conv                      [128, 128, 3, 2]              \n",
      " 19          [-1, 14]  1         0  models.common.Concat                    [1]                           \n",
      " 20                -1  1    296448  models.common.C3                        [256, 256, 1, False]          \n",
      " 21                -1  1    590336  models.common.Conv                      [256, 256, 3, 2]              \n",
      " 22          [-1, 10]  1         0  models.common.Concat                    [1]                           \n",
      " 23                -1  1   1182720  models.common.C3                        [512, 512, 1, False]          \n",
      " 24      [17, 20, 23]  1     45849  models.yolo.Detect                      [12, [[10, 13, 16, 30, 33, 23], [30, 61, 62, 45, 59, 119], [116, 90, 156, 198, 373, 326]], [128, 256, 512]]\n",
      "Model Summary: 283 layers, 7093209 parameters, 7093209 gradients, 16.5 GFLOPS\n",
      "\n",
      "Transferred 356/362 items from yolov5s.pt\n",
      "Scaled weight_decay = 0.0005\n",
      "Optimizer groups: 62 .bias, 62 conv.weight, 59 other\n",
      "Scanning images:   0% 0/250 [00:00<?, ?it/s]WARNING: Ignoring corrupted image and/or label ../data/images/train/26d663ab5ffbec49f9dc8e592982cfd4.jpg: duplicate labels\n",
      "Scanning '../data/labels/train' for images and labels... 250 found, 0 missing, 1 empty, 1 corrupted: 100% 250/250 [00:00<00:00, 2727.22it/s]\n",
      "New cache created: ../data/labels/train.cache\n",
      "Scanning '../data/labels/train.cache' for images and labels... 250 found, 0 missing, 1 empty, 1 corrupted: 100% 250/250 [00:00<00:00, 3718354.61it/s]\n",
      "Caching images (0.2GB): 100% 249/249 [00:08<00:00, 29.06it/s]\n",
      "Scanning '../data/labels/val' for images and labels... 39 found, 0 missing, 0 empty, 0 corrupted: 100% 39/39 [00:00<00:00, 1964.03it/s]\n",
      "New cache created: ../data/labels/val.cache\n",
      "Scanning '../data/labels/val.cache' for images and labels... 39 found, 0 missing, 0 empty, 0 corrupted: 100% 39/39 [00:00<00:00, 217523.74it/s]\n",
      "Caching images (0.0GB): 100% 39/39 [00:02<00:00, 19.47it/s]\n",
      "Plotting labels... \n",
      "\n",
      "\u001b[34m\u001b[1mautoanchor\u001b[0m: Analyzing anchors... anchors/target = 6.70, Best Possible Recall (BPR) = 1.0000\n",
      "Image sizes 640 train, 640 test\n",
      "Using 2 dataloader workers\n",
      "Logging results to runs/train/exp\n",
      "Starting training for 30 epochs...\n",
      "\n",
      "     Epoch   gpu_mem       box       obj       cls     total   targets  img_size\n",
      "      0/29    0.786G    0.1183   0.09168   0.07242    0.2824        20       640: 100% 63/63 [00:11<00:00,  5.61it/s]\n",
      "               Class      Images     Targets           P           R      mAP@.5  mAP@.5:.95: 100% 10/10 [00:01<00:00,  5.46it/s]\n",
      "                 all          39         396           0           0     0.00205    0.000215\n",
      "\n",
      "     Epoch   gpu_mem       box       obj       cls     total   targets  img_size\n",
      "      1/29    0.908G   0.09764    0.1138   0.07005    0.2814        20       640: 100% 63/63 [00:07<00:00,  8.40it/s]\n",
      "               Class      Images     Targets           P           R      mAP@.5  mAP@.5:.95: 100% 10/10 [00:01<00:00,  9.58it/s]\n",
      "                 all          39         396     0.00474      0.0395      0.0245     0.00514\n",
      "\n",
      "     Epoch   gpu_mem       box       obj       cls     total   targets  img_size\n",
      "      2/29    0.908G   0.07872   0.09151   0.06751    0.2377         1       640: 100% 63/63 [00:06<00:00,  9.19it/s]\n",
      "               Class      Images     Targets           P           R      mAP@.5  mAP@.5:.95: 100% 10/10 [00:00<00:00, 10.02it/s]\n",
      "                 all          39         396      0.0439       0.532       0.172      0.0471\n",
      "\n",
      "     Epoch   gpu_mem       box       obj       cls     total   targets  img_size\n",
      "      3/29    0.908G   0.06843   0.07777   0.06179     0.208        13       640: 100% 63/63 [00:06<00:00,  9.58it/s]\n",
      "               Class      Images     Targets           P           R      mAP@.5  mAP@.5:.95: 100% 10/10 [00:00<00:00, 12.78it/s]\n",
      "                 all          39         396      0.0531       0.249       0.156      0.0614\n",
      "\n",
      "     Epoch   gpu_mem       box       obj       cls     total   targets  img_size\n",
      "      4/29    0.908G   0.06882   0.06872   0.05879    0.1963        24       640: 100% 63/63 [00:06<00:00,  9.41it/s]\n",
      "               Class      Images     Targets           P           R      mAP@.5  mAP@.5:.95: 100% 10/10 [00:00<00:00, 15.00it/s]\n",
      "                 all          39         396      0.0355       0.204       0.152      0.0446\n",
      "\n",
      "     Epoch   gpu_mem       box       obj       cls     total   targets  img_size\n",
      "      5/29    0.908G   0.06826    0.0709   0.05695    0.1961        18       640: 100% 63/63 [00:06<00:00,  9.52it/s]\n",
      "               Class      Images     Targets           P           R      mAP@.5  mAP@.5:.95: 100% 10/10 [00:00<00:00, 15.00it/s]\n",
      "                 all          39         396       0.204       0.301       0.279      0.0879\n",
      "\n",
      "     Epoch   gpu_mem       box       obj       cls     total   targets  img_size\n",
      "      6/29    0.908G   0.06596   0.06535    0.0552    0.1865        10       640: 100% 63/63 [00:06<00:00,  9.95it/s]\n",
      "               Class      Images     Targets           P           R      mAP@.5  mAP@.5:.95: 100% 10/10 [00:00<00:00, 15.40it/s]\n",
      "                 all          39         396       0.102       0.369       0.163      0.0516\n",
      "\n",
      "     Epoch   gpu_mem       box       obj       cls     total   targets  img_size\n",
      "      7/29    0.908G    0.0741    0.0681   0.05356    0.1958         9       640: 100% 63/63 [00:06<00:00,  9.51it/s]\n",
      "               Class      Images     Targets           P           R      mAP@.5  mAP@.5:.95: 100% 10/10 [00:00<00:00, 12.29it/s]\n",
      "                 all          39         396       0.134       0.565       0.335       0.102\n",
      "\n",
      "     Epoch   gpu_mem       box       obj       cls     total   targets  img_size\n",
      "      8/29    0.908G   0.06751   0.06281   0.05219    0.1825        24       640: 100% 63/63 [00:06<00:00,  9.43it/s]\n",
      "               Class      Images     Targets           P           R      mAP@.5  mAP@.5:.95: 100% 10/10 [00:00<00:00, 13.24it/s]\n",
      "                 all          39         396       0.156       0.593       0.284       0.133\n",
      "\n",
      "     Epoch   gpu_mem       box       obj       cls     total   targets  img_size\n",
      "      9/29    0.908G   0.06655   0.06425   0.05093    0.1817         4       640: 100% 63/63 [00:06<00:00,  9.60it/s]\n",
      "               Class      Images     Targets           P           R      mAP@.5  mAP@.5:.95: 100% 10/10 [00:00<00:00, 12.80it/s]\n",
      "                 all          39         396       0.113       0.602       0.395       0.173\n",
      "\n",
      "     Epoch   gpu_mem       box       obj       cls     total   targets  img_size\n",
      "     10/29    0.908G   0.06659   0.05651   0.05091     0.174         4       640: 100% 63/63 [00:06<00:00,  9.25it/s]\n",
      "               Class      Images     Targets           P           R      mAP@.5  mAP@.5:.95: 100% 10/10 [00:00<00:00, 14.23it/s]\n",
      "                 all          39         396       0.175        0.61       0.377        0.16\n",
      "\n",
      "     Epoch   gpu_mem       box       obj       cls     total   targets  img_size\n",
      "     11/29    0.908G   0.06477   0.07025   0.04952    0.1845        20       640: 100% 63/63 [00:06<00:00,  9.50it/s]\n",
      "               Class      Images     Targets           P           R      mAP@.5  mAP@.5:.95: 100% 10/10 [00:00<00:00, 15.17it/s]\n",
      "                 all          39         396       0.101        0.53       0.314       0.125\n",
      "\n",
      "     Epoch   gpu_mem       box       obj       cls     total   targets  img_size\n",
      "     12/29    0.908G   0.07064   0.06161   0.04801    0.1803         8       640: 100% 63/63 [00:06<00:00,  9.62it/s]\n",
      "               Class      Images     Targets           P           R      mAP@.5  mAP@.5:.95: 100% 10/10 [00:00<00:00, 12.74it/s]\n",
      "                 all          39         396       0.255       0.631       0.455       0.214\n",
      "\n",
      "     Epoch   gpu_mem       box       obj       cls     total   targets  img_size\n",
      "     13/29    0.908G   0.06163   0.06417   0.04792    0.1737         1       640: 100% 63/63 [00:06<00:00,  9.76it/s]\n",
      "               Class      Images     Targets           P           R      mAP@.5  mAP@.5:.95: 100% 10/10 [00:00<00:00, 13.63it/s]\n",
      "                 all          39         396       0.199       0.637       0.464       0.225\n",
      "\n",
      "     Epoch   gpu_mem       box       obj       cls     total   targets  img_size\n",
      "     14/29    0.908G   0.06469   0.06296   0.04687    0.1745         1       640: 100% 63/63 [00:06<00:00,  9.61it/s]\n",
      "               Class      Images     Targets           P           R      mAP@.5  mAP@.5:.95: 100% 10/10 [00:00<00:00, 13.79it/s]\n",
      "                 all          39         396       0.114       0.792       0.465       0.166\n",
      "\n",
      "     Epoch   gpu_mem       box       obj       cls     total   targets  img_size\n",
      "     15/29    0.908G   0.05735   0.07177   0.04535    0.1745        20       640: 100% 63/63 [00:06<00:00,  9.44it/s]\n",
      "               Class      Images     Targets           P           R      mAP@.5  mAP@.5:.95: 100% 10/10 [00:00<00:00, 14.15it/s]\n",
      "                 all          39         396      0.0981       0.708       0.408       0.152\n",
      "\n",
      "     Epoch   gpu_mem       box       obj       cls     total   targets  img_size\n",
      "     16/29    0.908G   0.05862   0.07416   0.04602    0.1788         1       640: 100% 63/63 [00:06<00:00,  9.81it/s]\n",
      "               Class      Images     Targets           P           R      mAP@.5  mAP@.5:.95: 100% 10/10 [00:00<00:00, 15.73it/s]\n",
      "                 all          39         396       0.124       0.773        0.42       0.136\n",
      "\n",
      "     Epoch   gpu_mem       box       obj       cls     total   targets  img_size\n",
      "     17/29    0.908G   0.05828   0.06582   0.04483    0.1689        26       640: 100% 63/63 [00:06<00:00,  9.76it/s]\n",
      "               Class      Images     Targets           P           R      mAP@.5  mAP@.5:.95: 100% 10/10 [00:00<00:00, 15.22it/s]\n",
      "                 all          39         396       0.167       0.708       0.477        0.22\n",
      "\n",
      "     Epoch   gpu_mem       box       obj       cls     total   targets  img_size\n",
      "     18/29    0.908G      0.05   0.05776   0.04338    0.1511        24       640: 100% 63/63 [00:06<00:00,  9.33it/s]\n",
      "               Class      Images     Targets           P           R      mAP@.5  mAP@.5:.95: 100% 10/10 [00:00<00:00, 13.02it/s]\n",
      "                 all          39         396       0.138       0.737       0.453       0.158\n",
      "\n",
      "     Epoch   gpu_mem       box       obj       cls     total   targets  img_size\n",
      "     19/29    0.908G    0.0478   0.06074   0.04209    0.1506        24       640: 100% 63/63 [00:06<00:00,  9.73it/s]\n",
      "               Class      Images     Targets           P           R      mAP@.5  mAP@.5:.95: 100% 10/10 [00:00<00:00, 15.20it/s]\n",
      "                 all          39         396       0.186       0.794       0.526       0.268\n",
      "\n",
      "     Epoch   gpu_mem       box       obj       cls     total   targets  img_size\n",
      "     20/29    0.908G   0.03985   0.05993   0.04124     0.141        14       640: 100% 63/63 [00:06<00:00,  9.87it/s]\n",
      "               Class      Images     Targets           P           R      mAP@.5  mAP@.5:.95: 100% 10/10 [00:00<00:00, 15.71it/s]\n",
      "                 all          39         396       0.142        0.83       0.434       0.222\n",
      "\n",
      "     Epoch   gpu_mem       box       obj       cls     total   targets  img_size\n",
      "     21/29    0.908G   0.04149   0.05345   0.04043    0.1354        12       640: 100% 63/63 [00:06<00:00, 10.00it/s]\n",
      "               Class      Images     Targets           P           R      mAP@.5  mAP@.5:.95: 100% 10/10 [00:00<00:00, 16.09it/s]\n",
      "                 all          39         396       0.168       0.854       0.535        0.25\n",
      "\n",
      "     Epoch   gpu_mem       box       obj       cls     total   targets  img_size\n",
      "     22/29    0.908G   0.03989   0.05875   0.03937     0.138         9       640: 100% 63/63 [00:06<00:00,  9.71it/s]\n",
      "               Class      Images     Targets           P           R      mAP@.5  mAP@.5:.95: 100% 10/10 [00:00<00:00, 15.82it/s]\n",
      "                 all          39         396         0.2       0.855        0.57       0.334\n",
      "\n",
      "     Epoch   gpu_mem       box       obj       cls     total   targets  img_size\n",
      "     23/29    0.908G   0.03578   0.05231   0.03848    0.1266        24       640: 100% 63/63 [00:06<00:00,  9.72it/s]\n",
      "               Class      Images     Targets           P           R      mAP@.5  mAP@.5:.95: 100% 10/10 [00:00<00:00, 15.84it/s]\n",
      "                 all          39         396        0.19       0.856        0.57       0.316\n",
      "\n",
      "     Epoch   gpu_mem       box       obj       cls     total   targets  img_size\n",
      "     24/29    0.908G   0.03736   0.05383   0.03792    0.1291        16       640: 100% 63/63 [00:06<00:00,  9.98it/s]\n",
      "               Class      Images     Targets           P           R      mAP@.5  mAP@.5:.95: 100% 10/10 [00:00<00:00, 13.40it/s]\n",
      "                 all          39         396       0.197       0.858       0.603       0.334\n",
      "\n",
      "     Epoch   gpu_mem       box       obj       cls     total   targets  img_size\n",
      "     25/29    0.908G   0.03228   0.05081   0.03807    0.1212         3       640: 100% 63/63 [00:06<00:00,  9.86it/s]\n",
      "               Class      Images     Targets           P           R      mAP@.5  mAP@.5:.95: 100% 10/10 [00:00<00:00, 15.66it/s]\n",
      "                 all          39         396       0.198       0.869       0.645       0.424\n",
      "\n",
      "     Epoch   gpu_mem       box       obj       cls     total   targets  img_size\n",
      "     26/29    0.908G   0.03125   0.05103   0.03695    0.1192        26       640: 100% 63/63 [00:06<00:00,  9.56it/s]\n",
      "               Class      Images     Targets           P           R      mAP@.5  mAP@.5:.95: 100% 10/10 [00:00<00:00, 15.99it/s]\n",
      "                 all          39         396       0.196       0.869       0.655       0.409\n",
      "\n",
      "     Epoch   gpu_mem       box       obj       cls     total   targets  img_size\n",
      "     27/29    0.908G   0.03349   0.04902   0.03645     0.119         6       640: 100% 63/63 [00:06<00:00, 10.11it/s]\n",
      "               Class      Images     Targets           P           R      mAP@.5  mAP@.5:.95: 100% 10/10 [00:00<00:00, 16.16it/s]\n",
      "                 all          39         396        0.22        0.86       0.646       0.452\n",
      "\n",
      "     Epoch   gpu_mem       box       obj       cls     total   targets  img_size\n",
      "     28/29    0.908G   0.03203   0.04635   0.03637    0.1147         2       640: 100% 63/63 [00:06<00:00,  9.93it/s]\n",
      "               Class      Images     Targets           P           R      mAP@.5  mAP@.5:.95: 100% 10/10 [00:00<00:00, 15.99it/s]\n",
      "                 all          39         396       0.231       0.864       0.656       0.469\n",
      "\n",
      "     Epoch   gpu_mem       box       obj       cls     total   targets  img_size\n",
      "     29/29    0.908G   0.03049   0.04924   0.03525     0.115        20       640: 100% 63/63 [00:06<00:00, 10.18it/s]\n",
      "               Class      Images     Targets           P           R      mAP@.5  mAP@.5:.95: 100% 10/10 [00:00<00:00, 10.34it/s]\n",
      "                 all          39         396       0.227       0.864        0.66       0.441\n",
      "Optimizer stripped from runs/train/exp/weights/last.pt, 14.4MB\n",
      "30 epochs completed in 0.063 hours.\n",
      "\n"
     ]
    }
   ],
   "source": [
    "!python train.py --img 640 --batch 4 --epochs 30 --data /content/data.yaml \\\r\n",
    " --weights yolov5s.pt --nosave --cache "
   ]
  },
  {
   "cell_type": "markdown",
   "metadata": {
    "id": "Jb_aDHhLFd8J"
   },
   "source": [
    "Test Images"
   ]
  },
  {
   "cell_type": "code",
   "execution_count": 22,
   "metadata": {
    "colab": {
     "base_uri": "https://localhost:8080/"
    },
    "id": "xS4o3xyjEbax",
    "outputId": "48ac7443-5034-40c0-d59f-c88c1e7941e7"
   },
   "outputs": [
    {
     "name": "stdout",
     "output_type": "stream",
     "text": [
      "Namespace(agnostic_nms=False, augment=False, classes=None, conf_thres=0.4, device='', exist_ok=False, img_size=640, iou_thres=0.45, name='exp', project='runs/detect', save_conf=False, save_txt=False, source='/content/data/images/val/', update=False, view_img=False, weights=['runs/train/exp/weights/last.pt'])\n",
      "YOLOv5 v4.0-10-g1d1c056 torch 1.7.0+cu101 CUDA:0 (Tesla T4, 15079.75MB)\n",
      "\n",
      "Fusing layers... \n",
      "Model Summary: 224 layers, 7083577 parameters, 0 gradients, 16.4 GFLOPS\n",
      "image 1/39 /content/data/images/val/055b79dd8db4c43e1a23be6095aaf624.jpg: 448x640 Done. (0.011s)\n",
      "image 2/39 /content/data/images/val/05ad7223827a29a8283f6c4b2490f52f.jpg: 448x640 1 white-kings, 4 white-pawns, 2 black-kings, 5 black-pawns, Done. (0.012s)\n",
      "image 3/39 /content/data/images/val/0c09b79cff39932c59ecc745dd827906.jpg: 448x640 1 white-kings, 2 white-pawns, 1 black-kings, 1 black-pawns, Done. (0.010s)\n",
      "image 4/39 /content/data/images/val/1877a28e4c5f5c1ea68aca66f4e85d95.jpg: 448x640 1 white-kings, 8 white-pawns, 1 black-rooks, 1 black-kings, 8 black-pawns, Done. (0.012s)\n",
      "image 5/39 /content/data/images/val/22e74efb18b2d88fba63d25a61bf5f97.jpg: 448x640 1 white-kings, 4 white-pawns, 1 black-kings, 4 black-pawns, Done. (0.010s)\n",
      "image 6/39 /content/data/images/val/292b0ddcacad7de06a628980954b6993.jpg: 448x640 1 white-kings, 8 white-pawns, 1 black-rooks, 1 black-kings, 8 black-pawns, Done. (0.010s)\n",
      "image 7/39 /content/data/images/val/31419854b103ca6becc4cc394c449e95.jpg: 448x640 Done. (0.010s)\n",
      "image 8/39 /content/data/images/val/3796db002cba7265bd32b0161ddd9127.jpg: 448x640 Done. (0.010s)\n",
      "image 9/39 /content/data/images/val/446e75de1ffefc2115e79696bcf0e357.jpg: 448x640 Done. (0.010s)\n",
      "image 10/39 /content/data/images/val/495019998442ddf85b59e387d4916cd3.jpg: 448x640 1 white-kings, 4 white-pawns, 1 black-rooks, 1 black-kings, 4 black-pawns, Done. (0.010s)\n",
      "image 11/39 /content/data/images/val/4ab3343c9e91e56813f6c36bcac9896a.jpg: 448x640 1 white-kings, 1 white-pawns, 1 black-kings, 3 black-pawns, Done. (0.010s)\n",
      "image 12/39 /content/data/images/val/4eb630d4dd38528dacf72355caf5c06d.jpg: 448x640 1 white-kings, 5 white-pawns, 1 black-kings, 6 black-pawns, Done. (0.011s)\n",
      "image 13/39 /content/data/images/val/5758322233deed7ae7adc23536db2a4f.jpg: 448x640 Done. (0.010s)\n",
      "image 14/39 /content/data/images/val/57d1d1fb35ed875f9e770660bb03b6d7.jpg: 448x640 1 white-kings, 2 white-pawns, 1 black-kings, 1 black-pawns, Done. (0.010s)\n",
      "image 15/39 /content/data/images/val/6403b91d63799cb9b5531c47b195d088.jpg: 448x640 Done. (0.010s)\n",
      "image 16/39 /content/data/images/val/6ba74e310dd824af891d057d674cedb9.jpg: 448x640 1 white-kings, 7 white-pawns, 1 black-kings, 7 black-pawns, Done. (0.010s)\n",
      "image 17/39 /content/data/images/val/743665d7ef6ab0330e8786227f6f4051.jpg: 448x640 1 white-kings, 2 white-pawns, 1 black-kings, 3 black-pawns, Done. (0.010s)\n",
      "image 18/39 /content/data/images/val/76dbe2ccf986a2a0d399d3d8a47279ad.jpg: 448x640 1 white-kings, 4 white-pawns, 1 black-rooks, 1 black-kings, 5 black-pawns, Done. (0.010s)\n",
      "image 19/39 /content/data/images/val/793c79d55c8a252b7a954d074b1d6498.jpg: 448x640 Done. (0.010s)\n",
      "image 20/39 /content/data/images/val/7e862b85e33cd247ed66447d129e5fb4.jpg: 448x640 1 white-kings, 1 white-pawns, 2 black-kings, 2 black-pawns, Done. (0.010s)\n",
      "image 21/39 /content/data/images/val/871597c145446cf58c1c2dd7db988864.jpg: 448x640 1 white-kings, 4 white-pawns, 1 black-kings, 4 black-pawns, Done. (0.012s)\n",
      "image 22/39 /content/data/images/val/889c420fb266b8d0e817306110042bda.jpg: 448x640 1 white-kings, 4 white-pawns, 1 black-rooks, 1 black-kings, 3 black-pawns, Done. (0.012s)\n",
      "image 23/39 /content/data/images/val/8bb72e70f0560095885586deba37a524.jpg: 448x640 1 black-pawns, Done. (0.010s)\n",
      "image 24/39 /content/data/images/val/8d6f722eadc015a393bd490f9b7a85e6.jpg: 448x640 1 white-kings, 1 white-pawns, 1 black-kings, Done. (0.010s)\n",
      "image 25/39 /content/data/images/val/9146a6989dac08f1769e677064ebfb49.jpg: 448x640 Done. (0.010s)\n",
      "image 26/39 /content/data/images/val/92992ff9c823e0420bf17e71db9ef4ef.jpg: 448x640 Done. (0.010s)\n",
      "image 27/39 /content/data/images/val/9e943906fba1ec89edfacb2dd7976504.jpg: 448x640 Done. (0.011s)\n",
      "image 28/39 /content/data/images/val/a4ebf4c268d80c4fe329331ea981b3a1.jpg: 448x640 1 white-kings, 4 white-pawns, 1 black-rooks, 1 black-kings, 5 black-pawns, Done. (0.012s)\n",
      "image 29/39 /content/data/images/val/a9768de3fceeeae2618f362870fb9a88.jpg: 448x640 1 white-kings, 8 white-pawns, 1 black-rooks, 1 black-kings, 8 black-pawns, Done. (0.012s)\n",
      "image 30/39 /content/data/images/val/aec1aa6773dbbe004554f405cdef2bea.jpg: 448x640 Done. (0.011s)\n",
      "image 31/39 /content/data/images/val/b0f3d66c8be13f5f6aa25b67a06bdcfa.jpg: 448x640 1 white-kings, 4 white-pawns, 1 black-rooks, 1 black-kings, 4 black-pawns, Done. (0.012s)\n",
      "image 32/39 /content/data/images/val/ce54969567273b9b8a275812ff56e16c.jpg: 448x640 1 white-kings, 5 white-pawns, 1 black-rooks, 1 black-kings, 6 black-pawns, Done. (0.010s)\n",
      "image 33/39 /content/data/images/val/cf4769d0586df6b3fb0dc618d9f8abe6.jpg: 448x640 1 black-kings, Done. (0.010s)\n",
      "image 34/39 /content/data/images/val/d9e1d53f5e3a4433421dcd591f76f869.jpg: 448x640 Done. (0.010s)\n",
      "image 35/39 /content/data/images/val/e4147f3d8819fc5d67a9f72596bd9e47.jpg: 448x640 Done. (0.011s)\n",
      "image 36/39 /content/data/images/val/e79deba8fe520409790b601ad61da4ee.jpg: 448x640 1 black-pawns, Done. (0.011s)\n",
      "image 37/39 /content/data/images/val/e7edc4f1b8d3cc1069b96d0358e066c9.jpg: 448x640 1 white-kings, 4 white-pawns, 1 black-kings, 3 black-pawns, Done. (0.010s)\n",
      "image 38/39 /content/data/images/val/fb586797e8ad818c7e3e3a6411f73d84.jpg: 448x640 1 black-kings, Done. (0.010s)\n",
      "image 39/39 /content/data/images/val/fc9d7bc0453cb3324406401c00224d30.jpg: 448x640 Done. (0.010s)\n",
      "Results saved to runs/detect/exp\n",
      "Done. (4.226s)\n"
     ]
    }
   ],
   "source": [
    "!python detect.py --source /content/data/images/val/  --weights runs/train/exp/weights/last.pt --conf 0.4"
   ]
  },
  {
   "cell_type": "markdown",
   "metadata": {
    "id": "krsDBXFvRnEz"
   },
   "source": [
    "Export"
   ]
  },
  {
   "cell_type": "code",
   "execution_count": null,
   "metadata": {
    "id": "rV826Bp0fYlO"
   },
   "outputs": [],
   "source": [
    "!pip install onnx\r\n",
    "!pip install coremltools\r\n",
    "clear_output()"
   ]
  },
  {
   "cell_type": "code",
   "execution_count": null,
   "metadata": {
    "id": "-Es4iIftrdBJ"
   },
   "outputs": [],
   "source": [
    "!python models/export.py --weights runs/train/exp/weights/last.pt --img 640 --batch 1\r\n",
    "clear_output()"
   ]
  }
 ],
 "metadata": {
  "accelerator": "GPU",
  "colab": {
   "collapsed_sections": [],
   "name": "Chess Piece Detection Yolo V5.ipynb",
   "provenance": []
  },
  "kernelspec": {
   "display_name": "Python 3",
   "language": "python",
   "name": "python3"
  },
  "language_info": {
   "codemirror_mode": {
    "name": "ipython",
    "version": 3
   },
   "file_extension": ".py",
   "mimetype": "text/x-python",
   "name": "python",
   "nbconvert_exporter": "python",
   "pygments_lexer": "ipython3",
   "version": "3.7.6"
  }
 },
 "nbformat": 4,
 "nbformat_minor": 4
}
